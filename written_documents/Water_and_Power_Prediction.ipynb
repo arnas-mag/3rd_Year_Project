{
 "cells": [
  {
   "cell_type": "code",
   "execution_count": null,
   "id": "79bbe63d",
   "metadata": {},
   "outputs": [],
   "source": [
    "import numpy as np\n",
    "import pandas as pd\n",
    "import datetime as dt\n",
    "from sklearn import linear_model\n",
    "\n",
    "# Importing csv files for Water, Power and Weather Data into Dataframes\n",
    "water = pd.read_csv(\"../raw_data/water_usage_edit.csv\")\n",
    "power = pd.read_csv(\"../raw_data/elec_usage_edit.csv\")\n",
    "weather = pd.read_csv(\"../raw_data/weather_data_edit.csv\", encoding=\"latin1\")"
   ]
  },
  {
   "cell_type": "code",
   "execution_count": null,
   "id": "56604882",
   "metadata": {},
   "outputs": [],
   "source": [
    "# Converting Date Column in Water Dataframe to Datetime in the format of Year/Month/Day and then printing out the Dataframe\n",
    "water['Date'] = pd.to_datetime(water['Date'])\n",
    "water['Date'] = water['Date'].dt.strftime(\"%Y/%m/%d\")\n",
    "water"
   ]
  },
  {
   "cell_type": "code",
   "execution_count": null,
   "id": "a9991a1e",
   "metadata": {},
   "outputs": [],
   "source": [
    "# Converting Date Column in Power Dataframe to Datetime in the format of Year/Month/Day and then printing out the Dataframe\n",
    "power['Date'] = pd.to_datetime(power['Date'])\n",
    "power['Date'] = power['Date'].dt.strftime(\"%Y/%m/%d\")\n",
    "power"
   ]
  },
  {
   "cell_type": "code",
   "execution_count": null,
   "id": "e2a5e37a",
   "metadata": {},
   "outputs": [],
   "source": [
    "# Converting Date Column in Weather Dataframe to Datetime in the format of Year/Month/Day and then printing out the Dataframe\n",
    "weather['Date'] = pd.to_datetime(weather['Date'])\n",
    "weather['Date'] = weather['Date'].dt.strftime(\"%Y/%m/%d\")\n",
    "\n",
    "# Filtering Weather Data to match up with the dates of the Water and Power Data\n",
    "weather = weather.loc[(weather['Date'] >= '2013/10/21') & (weather['Date'] <= '2022/08/31')]\n",
    "weather"
   ]
  },
  {
   "cell_type": "code",
   "execution_count": null,
   "id": "19976e1d",
   "metadata": {},
   "outputs": [],
   "source": [
    "alldata = pd.merge(weather, water, how='outer', on='Date')\n",
    "alldata = pd.merge(alldata, power, how='outer', on='Date')\n",
    "alldata.head(5)\n",
    "\n",
    "#weather['Rainfall (mm)'] = weather['Rainfall (mm)'].astype(float)\n",
    "#weather['Max Temp (°C)'] = weather['Max Temp (°C)'].astype(float)\n",
    "#weather['Min Temp (°C)'] = weather['Min Temp (°C)'].astype(float)\n",
    "#weather.dtypes"
   ]
  },
  {
   "cell_type": "code",
   "execution_count": null,
   "id": "7d832c48",
   "metadata": {},
   "outputs": [],
   "source": [
    "X = weather[['Max Temp (°C)','Min Temp (°C)']]\n",
    "y = power['Usage(kWh)']\n",
    "\n",
    "\n",
    "regr = linear_model.LinearRegression()\n",
    "regr.fit(X,y)\n",
    "\n",
    "#predict the power usage and water usage where the max temperture is ...\n",
    "\n",
    "\n",
    "predictPower = regr.prdict([[16.2, 8.9]])\n",
    "\n",
    "print(predictPower)"
   ]
  },
  {
   "cell_type": "code",
   "execution_count": null,
   "id": "4147f2ee",
   "metadata": {},
   "outputs": [],
   "source": []
  }
 ],
 "metadata": {
  "kernelspec": {
   "display_name": "Python 3 (ipykernel)",
   "language": "python",
   "name": "python3"
  },
  "language_info": {
   "codemirror_mode": {
    "name": "ipython",
    "version": 3
   },
   "file_extension": ".py",
   "mimetype": "text/x-python",
   "name": "python",
   "nbconvert_exporter": "python",
   "pygments_lexer": "ipython3",
   "version": "3.9.12"
  },
  "vscode": {
   "interpreter": {
    "hash": "0019fc0a8a96d195dc7d8ecc45e77e2072dfb9a9482fcf098ee8e7c34d8e8c48"
   }
  }
 },
 "nbformat": 4,
 "nbformat_minor": 5
}
